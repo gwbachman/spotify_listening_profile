{
 "cells": [
  {
   "cell_type": "markdown",
   "metadata": {},
   "source": [
    "# Visualizing Musical Taste\n",
    "DSCI 624 - Data Visualization Final Project - Graham Bachman"
   ]
  },
  {
   "cell_type": "markdown",
   "metadata": {},
   "source": [
    "## Install packages and establish Spotify Authorization Flow"
   ]
  },
  {
   "cell_type": "code",
   "execution_count": null,
   "metadata": {},
   "outputs": [],
   "source": [
    "# Install Packages\n",
    "import spotipy\n",
    "from spotipy.oauth2 import SpotifyOAuth\n",
    "import pandas as pd\n",
    "import numpy as np\n",
    "import matplotlib.pyplot as plt"
   ]
  },
  {
   "cell_type": "code",
   "execution_count": null,
   "metadata": {},
   "outputs": [],
   "source": [
    "# Setup Spotify Authorization Code Flow\n",
    "username = '12128528664'\n",
    "scope = 'user-library-read playlist-read-private'\n",
    "cid = \"352ccfcaee8542e8bd078171005ea1e1\"\n",
    "secret = \"8bfdcd0803294d43a881c0e5df17be0b\"\n",
    "uri = \"http://localhost:5006/\"\n",
    "scope = 'user-library-read playlist-read-private, user-top-read'\n",
    "\n",
    "credentials = SpotifyOAuth(client_id=cid, client_secret=secret, redirect_uri=uri, scope=scope)\n",
    "sp = spotipy.Spotify(auth_manager=credentials)"
   ]
  },
  {
   "cell_type": "markdown",
   "metadata": {},
   "source": [
    "## Gathering Data: \n",
    "### Getting the ID's of all 'Your Year Wrapped' Playlists"
   ]
  },
  {
   "cell_type": "code",
   "execution_count": null,
   "metadata": {},
   "outputs": [],
   "source": [
    "wrapped_playlists = {'Year':[2020,2019,2018,2017,2016], \n",
    "           'playlist_id':['37i9dQZF1EMcq0eGAv9Vuu','37i9dQZF1EteTmCePxInAP','37i9dQZF1Ejx9qPCOpDhGt','37i9dQZF1E9U9HDEkRUWR5','37i9dQZF1Cz4OxltUfbPLp']}\n",
    "\n",
    "wrapped_playlists = pd.DataFrame.from_dict(wrapped_playlists)\n",
    "len(wrapped_playlists)\n",
    "wrapped_playlists"
   ]
  },
  {
   "cell_type": "markdown",
   "metadata": {},
   "source": [
    "### Getting song and song info for each playlist"
   ]
  },
  {
   "cell_type": "code",
   "execution_count": null,
   "metadata": {},
   "outputs": [],
   "source": [
    "wrapped_songs =  pd.DataFrame(columns=[\"list_id\", \"song_id\",\"song_name\",\"artist\",\"popularity\",'release_date']\n",
    "                       )\n",
    "\n",
    "\n",
    "for listid in wrapped_playlists[\"playlist_id\"]:\n",
    "    songs = []\n",
    "    content = sp.user_playlist_tracks(\"12128528664\", listid, fields=None, limit=100, offset=0, market=None)\n",
    "    songs += content['items']\n",
    "    for song in songs:\n",
    "        wrapped_songs = wrapped_songs.append({\"list_id\" : listid,\n",
    "                                  \"song_id\":song['track']['id'],\n",
    "                                  \"song_name\":song['track']['name'],\n",
    "                                  \"artist\":song['track']['artists'][0]['name'],\n",
    "                                  \"popularity\": song['track']['popularity'],\n",
    "                                  \"release_date\": song['track']['album']['release_date']},ignore_index=True)\n",
    "len(wrapped_songs)\n",
    "wrapped_songs"
   ]
  },
  {
   "cell_type": "markdown",
   "metadata": {},
   "source": [
    "## Review of Spotify Audio Features\n",
    "**Acousticness**: A confidence measure from 0.0 to 1.0 of whether the track is acoustic. 1.0 represents high confidence the track is acoustic.\n",
    "\n",
    "**Danceability**: Danceability describes how suitable a track is for dancing based on a combination of musical elements including tempo, rhythm stability, beat strength, and overall regularity. A value of 0.0 is least danceable and 1.0 is most danceable.\n",
    "\n",
    "**Energy**: Energy is a measure from 0.0 to 1.0 and represents a perceptual measure of intensity and activity. Typically, energetic tracks feel fast, loud, and noisy. For example, death metal has high energy, while a Bach prelude scores low on the scale. Perceptual features contributing to this attribute include dynamic range, perceived loudness, timbre, onset rate, and general entropy.\n",
    "\n",
    "**Instrumentalness**: Predicts whether a track contains no vocals. “Ooh” and “aah” sounds are treated as instrumental in this context. Rap or spoken word tracks are clearly “vocal”. The closer the instrumentalness value is to 1.0, the greater likelihood the track contains no vocal content. Values above 0.5 are intended to represent instrumental tracks, but confidence is higher as the value approaches 1.0.\n",
    "\n",
    "**Liveness**: Detects the presence of an audience in the recording. Higher liveness values represent an increased probability that the track was performed live. A value above 0.8 provides a strong likelihood that the track is live.\n",
    "\n",
    "**Loudness**: the overall loudness of a track in decibels (dB). Loudness values are averaged across the entire track and are useful for comparing relative loudness of tracks. Loudness is the quality of a sound that is the primary psychological correlate of physical strength (amplitude). Values typical range between -60 and 0 db.\n",
    "\n",
    "**Speechiness**: Speechiness detects the presence of spoken words in a track. The more exclusively speech-like the recording (e.g. talk show, audiobook, poetry), the closer to 1.0 the attribute value. Values above 0.66 describe tracks that are probably made entirely of spoken words. Values between 0.33 and 0.66 describe tracks that may contain both music and speech, either in sections or layered, including such cases as rap music. Values below 0.33 most likely represent music and other non-speech-like tracks.\n",
    "\n",
    "**Valence**: A measure from 0.0 to 1.0 describing the musical positiveness conveyed by a track. Tracks with high valence sound more positive (e.g. happy, cheerful, euphoric), while tracks with low valence sound more negative (e.g. sad, depressed, angry)."
   ]
  },
  {
   "cell_type": "markdown",
   "metadata": {},
   "source": [
    "### Grab Audio Features for all songs"
   ]
  },
  {
   "cell_type": "code",
   "execution_count": null,
   "metadata": {},
   "outputs": [],
   "source": [
    "wrapped_features = pd.DataFrame(columns=[\"song_id\",\"energy\", \"liveness\",\"tempo\",\"speechiness\",\n",
    "                                \"acousticness\",\"instrumentalness\",\"danceability\",\n",
    "                                \"duration_ms\",\"loudness\",\"valence\",\n",
    "                                \"mode\",\"key\"])\n",
    "for song in wrapped_songs['song_id']:\n",
    "    features = sp.audio_features(tracks = [song])[0]\n",
    "    wrapped_features = wrapped_features.append({\"song_id\":song,\n",
    "                                    \"energy\":features['energy'], \n",
    "                                    \"liveness\":features['liveness'],\n",
    "                                    \"tempo\":features['tempo'],\n",
    "                                    \"speechiness\":features['speechiness'],\n",
    "                                    \"acousticness\":features['acousticness'],\n",
    "                                    \"instrumentalness\":features['instrumentalness'],\n",
    "                                    \"danceability\":features['danceability'],\n",
    "                                    \"duration_ms\":features['duration_ms'],\n",
    "                                    \"loudness\":features['loudness'],\n",
    "                                    \"valence\":features['valence'],\n",
    "                                    \"mode\":features['mode'],\n",
    "                                    \"key\":features[\"key\"],\n",
    "                                 },ignore_index=True)\n",
    "\n",
    "len(wrapped_features)\n",
    "wrapped_features"
   ]
  },
  {
   "cell_type": "markdown",
   "metadata": {},
   "source": [
    "### Merge into one Dataset"
   ]
  },
  {
   "cell_type": "code",
   "execution_count": null,
   "metadata": {},
   "outputs": [],
   "source": [
    "wrapped_join = pd.merge(wrapped_features,wrapped_songs,how='left',left_on='song_id', right_on='song_id')\n",
    "wrapped = pd.merge(wrapped_playlists, wrapped_join, how='left', left_on = 'playlist_id', right_on='list_id')\n",
    "wrapped"
   ]
  },
  {
   "cell_type": "markdown",
   "metadata": {},
   "source": [
    "### Normalize Loudness"
   ]
  },
  {
   "cell_type": "code",
   "execution_count": null,
   "metadata": {},
   "outputs": [],
   "source": [
    "# We want to inspect following feature in radar chart: acousticness, danceability,energy, instrumentalness, loudness, valance.\n",
    "# Besides loudness, all other features are in 0-1 scale, thus we first convert loudness to the scale of 0-1.\n",
    "\n",
    "# create function to do linear transformation on variable to change value to [0,1]\n",
    "def convert_scale(df,col):\n",
    "    new_max = 1\n",
    "    new_min = 0\n",
    "    new_range = new_max-new_min\n",
    "    max_val = df[col].max()\n",
    "    min_val=df[col].min()\n",
    "    val_range = max_val - min_val\n",
    "    df[col+'_adj']=df[col].apply(lambda x: (((x-min_val)*new_range)/val_range)+new_min)\n",
    "    return\n",
    "\n",
    "convert_scale(wrapped,'loudness')\n",
    "wrapped = wrapped[['Year', 'playlist_id', 'song_id', 'acousticness','danceability','energy','instrumentalness','valence','loudness_adj', 'speechiness', \n",
    "                  'liveness', 'key', 'mode', 'tempo', 'song_name', 'artist', 'popularity', 'release_date']]\n",
    "wrapped"
   ]
  },
  {
   "cell_type": "code",
   "execution_count": null,
   "metadata": {},
   "outputs": [],
   "source": [
    "wrapped.mean()"
   ]
  },
  {
   "cell_type": "code",
   "execution_count": null,
   "metadata": {},
   "outputs": [],
   "source": [
    "avg = pd.DataFrame({'Year':['All'],\n",
    "                    'playlist_id':['null'],\n",
    "                    'song_id':['null'],\n",
    "                    'acousticness':[.411829],\n",
    "                    'danceability':[0.534604],\n",
    "                    'energy':[0.529452],\n",
    "                    'instrumentalness':[0.117031],\n",
    "                    'valence':[0.370057],\n",
    "                    'loudness_adj':[0.684628],\n",
    "                    'speechiness':[0.097449],\n",
    "                    'liveness':[0.186855],\n",
    "                    'key':[4.778571],\n",
    "                    'mode':[0.608929],\n",
    "                    'tempo':[114.947016],\n",
    "                    'song_name':['null'],\n",
    "                    'artist':['null'],\n",
    "                    'popularity':[45.926786],\n",
    "                    'release_date': ['0000-00-00']\n",
    "                   })\n",
    "wrapped.append(avg)"
   ]
  },
  {
   "cell_type": "markdown",
   "metadata": {},
   "source": [
    "### Create CSV File"
   ]
  },
  {
   "cell_type": "code",
   "execution_count": null,
   "metadata": {},
   "outputs": [],
   "source": [
    "wrapped.to_csv(r'C:\\Users\\bachm\\OneDrive - Maryville University\\M.S\\FA2020\\DSCI 624 - Data Visualization\\spotify_wrapped.csv', index = False)"
   ]
  },
  {
   "cell_type": "markdown",
   "metadata": {},
   "source": [
    "## A Brief Look at Artist and Genres Through the Years"
   ]
  },
  {
   "cell_type": "code",
   "execution_count": null,
   "metadata": {},
   "outputs": [],
   "source": [
    "results = sp.current_user_top_artists(time_range='long_term', limit=10)\n",
    "for i, item in enumerate(results['items']):\n",
    "    print(i, item['name'])\n",
    "print()\n",
    "\n",
    "print('hip-hop/rap = 5\\npop = 3\\nalt folk = 2')"
   ]
  },
  {
   "cell_type": "code",
   "execution_count": null,
   "metadata": {},
   "outputs": [],
   "source": [
    "draw_radar(feature_mean.index.values[0],feature_mean.index.values[7],feature_mean.index.values[1],feature_mean.index.values[6],\n",
    "           '37i9dQZF1EMcq0eGAv9Vuu')"
   ]
  },
  {
   "cell_type": "markdown",
   "metadata": {},
   "source": [
    "## Getting Data for Full Streaming History"
   ]
  },
  {
   "cell_type": "code",
   "execution_count": null,
   "metadata": {},
   "outputs": [],
   "source": [
    "import json\n",
    "with open('StreamingHistory0.json', encoding='utf8') as f:\n",
    "    data = json.load(f)"
   ]
  },
  {
   "cell_type": "code",
   "execution_count": null,
   "metadata": {},
   "outputs": [],
   "source": [
    "spotify_data = pd.DataFrame()\n",
    "\n",
    "def extract_json_value(column_name):\n",
    "    \n",
    "    return [i[column_name] for i in data]\n",
    "\n",
    "spotify_data['artist_name'] = extract_json_value('artistName')\n",
    "spotify_data['end_time'] = extract_json_value('endTime')\n",
    "spotify_data['ms_played'] = extract_json_value('msPlayed')\n",
    "spotify_data['track_name'] = extract_json_value('trackName')"
   ]
  },
  {
   "cell_type": "code",
   "execution_count": null,
   "metadata": {},
   "outputs": [],
   "source": [
    "import spotipy.util as util\n",
    "\n",
    "token = util.prompt_for_user_token(username=username, \n",
    "                                   scope=scope, \n",
    "                                   client_id=cid,   \n",
    "                                   client_secret=secret,     \n",
    "                                   redirect_uri=uri)"
   ]
  },
  {
   "cell_type": "code",
   "execution_count": null,
   "metadata": {},
   "outputs": [],
   "source": [
    "import requests\n",
    "\n",
    "# write the function to get track_id\n",
    "def get_id(track_name: str,artist:str, token: str) -> str:\n",
    "    headers = {\n",
    "    'Accept': 'application/json',\n",
    "    'Content-Type': 'application/json',\n",
    "    'Authorization': f'Bearer ' + token,\n",
    "    }\n",
    "    track_artist = track_name+ \" \" + artist\n",
    "    params = [\n",
    "    ('q',track_artist ),#q is the search query parameter\n",
    "    ('type', 'track'),\n",
    "    ]\n",
    "    try:\n",
    "        response = requests.get('https://api.spotify.com/v1/search', \n",
    "                    headers = headers, params = params, timeout = 10)\n",
    "        json = response.json()\n",
    "        first_result = json['tracks']['items'][0]\n",
    "        track_id = first_result['id']\n",
    "        return track_id\n",
    "    except:\n",
    "        return None\n",
    "\n",
    "# Get track_id for streaming history    \n",
    "spotify_data[\"track_id\"] = spotify_data.apply(lambda x: get_id(x[\"track_name\"],\n",
    "                                                               x[\"artist_name\"],\n",
    "                                                                 token),axis=1)"
   ]
  },
  {
   "cell_type": "code",
   "execution_count": null,
   "metadata": {},
   "outputs": [],
   "source": [
    "from collections import OrderedDict\n",
    "spotify_data_nonull = spotify_data[\"track_id\"].dropna()\n",
    "spotify_data_nonull\n",
    "\n",
    "track = list(OrderedDict.fromkeys(spotify_data_nonull))"
   ]
  },
  {
   "cell_type": "code",
   "execution_count": null,
   "metadata": {},
   "outputs": [],
   "source": [
    "# get track's feature\n",
    "my_feature = pd.DataFrame(columns=[\"song_id\",\"energy\", \"liveness\",\"tempo\",\"speechiness\",\n",
    "                                \"acousticness\",\"instrumentalness\",\"danceability\",\n",
    "                                \"duration_ms\",\"loudness\",\"valence\",\n",
    "                                \"mode\",\"key\"])\n",
    "for song in track:\n",
    "    features = sp.audio_features(tracks = [song])[0]\n",
    "    if features is not None:\n",
    "        my_feature = my_feature.append({\"song_id\":song,\n",
    "                                    \"energy\":features['energy'], \n",
    "                                    \"liveness\":features['liveness'],\n",
    "                                    \"tempo\":features['tempo'],\n",
    "                                    \"speechiness\":features['speechiness'],\n",
    "                                    \"acousticness\":features['acousticness'],\n",
    "                                    \"instrumentalness\":features['instrumentalness'],\n",
    "                                    \"danceability\":features['danceability'],\n",
    "                                    \"duration_ms\":features['duration_ms'],\n",
    "                                    \"loudness\":features['loudness'],\n",
    "                                    \"valence\":features['valence'],\n",
    "                                    \"mode\":features['mode'],\n",
    "                                    \"key\":features[\"key\"],\n",
    "                                 },ignore_index=True)\n",
    "    else:\n",
    "        pass"
   ]
  },
  {
   "cell_type": "code",
   "execution_count": null,
   "metadata": {},
   "outputs": [],
   "source": [
    "my_streaming= pd.merge(spotify_data,my_feature,how=\"left\",left_on= \"track_id\", right_on=\"song_id\")\n",
    "my_streaming.drop(my_streaming[my_streaming[\"ms_played\"]==0].index,inplace=True)\n",
    "my_streaming"
   ]
  },
  {
   "cell_type": "code",
   "execution_count": null,
   "metadata": {},
   "outputs": [],
   "source": [
    "my_streaming.to_csv(r'C:\\Users\\bachm\\OneDrive - Maryville University\\M.S\\FA2020\\DSCI 624 - Data Visualization\\spotify_streaming.csv', index = False)"
   ]
  }
 ],
 "metadata": {
  "kernelspec": {
   "display_name": "Python 3",
   "language": "python",
   "name": "python3"
  },
  "language_info": {
   "codemirror_mode": {
    "name": "ipython",
    "version": 3
   },
   "file_extension": ".py",
   "mimetype": "text/x-python",
   "name": "python",
   "nbconvert_exporter": "python",
   "pygments_lexer": "ipython3",
   "version": "3.8.3"
  }
 },
 "nbformat": 4,
 "nbformat_minor": 4
}
